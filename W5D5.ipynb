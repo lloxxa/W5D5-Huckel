{
 "cells": [
  {
   "cell_type": "markdown",
   "metadata": {},
   "source": [
    "# Week 5 - day 5 - Hückel theory - A how-to for finding the coefficients and energies of LCAO-MOs by the matrix method\n",
    "\n",
    "\n",
    "Welcome to this notebook! If you are familiar with python, you can skip the instructions and just run the code. If you are not, the instructions should help you to perform the calculations yourself. We will perform the calculation for\n",
    "\n",
    "- ethene \n",
    "- butadiene\n",
    "- benzene\n",
    "\n",
    "Subsequently, you can use this method for the seminar by changing the code in the cells."
   ]
  },
  {
   "cell_type": "markdown",
   "metadata": {},
   "source": [
    "You can focus on the next cell by clicking on it. To run the code, press [Shift]+[Enter], or click the \"play\" button in the toolbar above. The following cell imports `numpy` (package for numerical calculations), and the linear algebra module `linalg`. \n",
    "\n",
    "**Click on the next cell, and run it with [Shift]+[Enter] (press Shift and Enter at the same time)**"
   ]
  },
  {
   "cell_type": "code",
   "execution_count": null,
   "metadata": {
    "collapsed": true,
    "deletable": true,
    "editable": true,
    "slideshow": {
     "slide_type": "slide"
    }
   },
   "outputs": [],
   "source": [
    "import numpy as np\n",
    "from numpy import linalg as la "
   ]
  },
  {
   "cell_type": "markdown",
   "metadata": {},
   "source": [
    "The libraries numpy and its module linalg should have been loaded by now. Let's take a look at ethene now. In the lecture, by rewriting the secular equation for the atomic orbitals in matrix form, we derived for it the following matrix-vector equation:\n",
    "\n",
    "$\\boldsymbol{Mc}=\\boldsymbol{c}\\left(\\frac{E-\\alpha}{\\beta}\\right)$\n",
    "\n",
    "with\n",
    "\n",
    "$\\boldsymbol{M}=\\begin{pmatrix}\n",
    "0 & 1 \\\\\n",
    "1 & 0\n",
    "\\end{pmatrix}$\n",
    "\n",
    "Let's load it into the variable M_ethene. **Click on the cell, and press [Shift]+[Enter] to run the code.**"
   ]
  },
  {
   "cell_type": "code",
   "execution_count": null,
   "metadata": {
    "collapsed": false,
    "deletable": true,
    "editable": true
   },
   "outputs": [],
   "source": [
    "M_ethene=np.array((\n",
    "             [ 0 , 1 ],\n",
    "             [ 1 , 0 ]\n",
    "                 ))"
   ]
  },
  {
   "cell_type": "markdown",
   "metadata": {},
   "source": [
    "Now we will look for the eigenvectors $\\boldsymbol{c}$ and the eigenvalues $\\frac{E-\\alpha}{\\beta}$. All we have to do is run the function `la.eigh` and give it as its input the matrix `M_ethene` that contains the necessary structural information. As outputs, we will receive the matrix `eigenvectors`, which will have the two 2-component vectors as its columns. We will also receive the vector `eigenvalues`, which are the eigenvalues that correspond to the four eigenvectors. **Click on the next cell, and press [Shift]+[Enter] to run the code.**"
   ]
  },
  {
   "cell_type": "code",
   "execution_count": null,
   "metadata": {
    "collapsed": false,
    "deletable": true,
    "editable": true
   },
   "outputs": [],
   "source": [
    "eigenvalues, eigenvectors=la.eigh(M_ethene)"
   ]
  },
  {
   "cell_type": "markdown",
   "metadata": {},
   "source": [
    "Let us inspect the matrix `eigenvectors`: **Click on the next cell, and press [Shift]+[Enter] to run the code**."
   ]
  },
  {
   "cell_type": "code",
   "execution_count": null,
   "metadata": {
    "collapsed": false,
    "deletable": true,
    "editable": true
   },
   "outputs": [],
   "source": [
    "np.round(eigenvectors, 4)"
   ]
  },
  {
   "cell_type": "markdown",
   "metadata": {},
   "source": [
    "Great! The rows are, as we expect, all $\\lvert\\frac{1}{\\sqrt{2}}\\rvert$ up to a rounding error. The first column gives us the vector $\\begin{pmatrix} -0.7071 \\\\ 0.7071 \\end{pmatrix}$, the second column $\\begin{pmatrix} 0.7071 \\\\ 0.7071 \\end{pmatrix}$. These are the coefficients $\\begin{pmatrix} c_\\mathrm{A} \\\\ c_\\mathrm{B} \\end{pmatrix}$ in the equation $\\Psi=c_\\mathrm{A}\\psi_\\mathrm{A} + c_\\mathrm{B}\\psi_\\mathrm{B}$. The two eigenvectors correspond to two eigenvalues.\n",
    "\n",
    "Now we will inspect `eigenvalues`:  **Click on the next cell, and press [Shift]+[Enter] to run the code**."
   ]
  },
  {
   "cell_type": "code",
   "execution_count": null,
   "metadata": {
    "collapsed": false
   },
   "outputs": [],
   "source": [
    "eigenvalues"
   ]
  },
  {
   "cell_type": "markdown",
   "metadata": {},
   "source": [
    "The columns of `eigenvectors` are ordered such that the $i$th column corresponds to the $i$th element of `eigenvalues`. Thus, the eigenvalue $-1$ will correspond to the column $\\begin{pmatrix} -0.7071 \\\\ 0.7071 \\end{pmatrix}$, and the eigenvalue $1$ will correspond to the column $\\begin{pmatrix} 0.7071 \\\\ 0.7071 \\end{pmatrix}$. Remember that the eigenvalues correspond to $\\frac{E-\\alpha}{\\beta}$ - thus the two energy levels are $E_\\pi=\\alpha+\\beta$ (bonding) and $E_{\\pi*}=\\alpha-\\beta$ (antibonding). Compare this with the following diagram:\n",
    "\n",
    "![](Huckel_ethene.png)"
   ]
  },
  {
   "cell_type": "markdown",
   "metadata": {},
   "source": [
    "Let us take a slightly more complex molecule: butadiene. Again, we treat only the $\\pi$-bond, which originates from linear combinations of the $\\mathrm{p}_z$-electrons. We now look for four sets of coefficients $\\begin{pmatrix} c_\\mathrm{A} \\\\ c_\\mathrm{B} \\\\ c_\\mathrm{C} \\\\ c_\\mathrm{D} \\end{pmatrix}$ that correspond to the best energies in the following LCAO-MO:\n",
    "\n",
    "$\\begin{equation} \\Psi=c_\\mathrm{A}\\psi_\\mathrm{A} + c_\\mathrm{B}\\psi_\\mathrm{B} + c_\\mathrm{C}\\psi_\\mathrm{C} + c_\\mathrm{D}\\psi_\\mathrm{D} \\end{equation}$"
   ]
  },
  {
   "cell_type": "markdown",
   "metadata": {},
   "source": [
    "The process begins by formulating our matrix-vector equation, and deciding on the matrix to decompose the eigenvectors from. Now we see a benefit of having derived quite a general result - the equation is the same! \n",
    "\n",
    "$\\boldsymbol{Mc}=\\boldsymbol{c}\\left(\\frac{E-\\alpha}{\\beta}\\right)$.\n",
    "\n",
    "However, we need to look into the matrix $\\boldsymbol{H}$ that correspond to the structure of butadiene, so that we can write down $\\boldsymbol{M}$. You can apply the same logic as shown in the lecture for ethene. Atkins does it, too:\n",
    "\n",
    "<img src=Huckel_M_butadiene.png width=600px>\n",
    "\n",
    "Either way, we will use\n",
    "\n",
    "$\\boldsymbol{M}=\\begin{pmatrix}\n",
    "0 & 1 & 0 & 0 \\\\\n",
    "1 & 0 & 1 & 0 \\\\\n",
    "0 & 1 & 0 & 1 \\\\\n",
    "0 & 0 & 1 & 0\n",
    "\\end{pmatrix}$\n",
    "\n",
    "We are now ready to load it into the variable M_butadiene. **Click on the next cell, and press [Shift]+[Enter] to run the code.**"
   ]
  },
  {
   "cell_type": "code",
   "execution_count": null,
   "metadata": {
    "collapsed": true,
    "deletable": true,
    "editable": true,
    "slideshow": {
     "slide_type": "slide"
    }
   },
   "outputs": [],
   "source": [
    "M_butadiene=np.array((\n",
    "            [ 0 , 1 , 0 , 0 ],\n",
    "            [ 1 , 0 , 1 , 0 ],\n",
    "            [ 0 , 1 , 0 , 1 ],\n",
    "            [ 0 , 0 , 1 , 0 ]\n",
    "          ))"
   ]
  },
  {
   "cell_type": "markdown",
   "metadata": {},
   "source": [
    "We repeat the same steps: decompose into `eigenvectors` and `eigenvalues` using `la.eigh`. **Click on the next cell, and press [Shift]+[Enter] to run the code.**"
   ]
  },
  {
   "cell_type": "code",
   "execution_count": null,
   "metadata": {
    "collapsed": false,
    "deletable": true,
    "editable": true,
    "slideshow": {
     "slide_type": "slide"
    }
   },
   "outputs": [],
   "source": [
    "eigenvalues,eigenvectors=la.eigh(M_butadiene)"
   ]
  },
  {
   "cell_type": "markdown",
   "metadata": {},
   "source": [
    "Inspect the four `eigenvectors` $\\begin{pmatrix} c_\\mathrm{A} \\\\ c_\\mathrm{B} \\\\ c_\\mathrm{C} \\\\ c_\\mathrm{D} \\end{pmatrix}$: **Click on the next cell, and press [Shift]+[Enter] to run the code.**"
   ]
  },
  {
   "cell_type": "code",
   "execution_count": null,
   "metadata": {
    "collapsed": false
   },
   "outputs": [],
   "source": [
    "eigenvectors"
   ]
  },
  {
   "cell_type": "markdown",
   "metadata": {},
   "source": [
    "And the four `eigenvalues`: **Click on the next cell, and press [Shift]+[Enter] to run the code.**"
   ]
  },
  {
   "cell_type": "code",
   "execution_count": null,
   "metadata": {
    "collapsed": false
   },
   "outputs": [],
   "source": [
    "eigenvalues"
   ]
  },
  {
   "cell_type": "markdown",
   "metadata": {},
   "source": [
    "Can you already see which sets $\\begin{pmatrix} c_\\mathrm{A} \\\\ c_\\mathrm{B} \\\\ c_\\mathrm{C} \\\\ c_\\mathrm{D} \\end{pmatrix}$ correspond to bonding and which to antibonding orbitals?\n",
    "\n",
    "Compare with the figure in Atkins':\n",
    "\n",
    "<img src=Huckel_butadiene.png width=500px>\n",
    "\n",
    "Which levels do you think will be occupied?"
   ]
  },
  {
   "cell_type": "markdown",
   "metadata": {},
   "source": [
    "Are you now ready to solve the $\\pi$-bond structure of benzene? The steps will be written out for you, but it is up to you to complete the matrix $\\boldsymbol{M}$ and to run each cell using [Shift]+[Enter]."
   ]
  },
  {
   "cell_type": "code",
   "execution_count": null,
   "metadata": {
    "collapsed": true
   },
   "outputs": [],
   "source": [
    "M_benzene=np.array((\n",
    "                  [0,0,0,0,0,0],\n",
    "                  [0,0,0,0,0,0],\n",
    "                  [0,0,0,0,0,0],\n",
    "                  [0,0,0,0,0,0],\n",
    "                  [0,0,0,0,0,0],\n",
    "                  [0,0,0,0,0,0],\n",
    "                  )) # replace the zeroes by the correct numbers"
   ]
  },
  {
   "cell_type": "code",
   "execution_count": null,
   "metadata": {
    "collapsed": true
   },
   "outputs": [],
   "source": [
    "eigenvalues, eigenvectors=la.eigh(M_benzene)"
   ]
  },
  {
   "cell_type": "code",
   "execution_count": null,
   "metadata": {
    "collapsed": false
   },
   "outputs": [],
   "source": [
    "np.round(eigenvectors,3)"
   ]
  },
  {
   "cell_type": "code",
   "execution_count": null,
   "metadata": {
    "collapsed": false
   },
   "outputs": [],
   "source": [
    "np.round(eigenvalues, 3)"
   ]
  },
  {
   "cell_type": "markdown",
   "metadata": {},
   "source": [
    "You can check your results with Atkins':\n",
    "\n",
    "<img src=Huckel_benzene_nrg.png width=500px>\n",
    "\n",
    "<img src=Huckel_benzene.png width=500px>"
   ]
  },
  {
   "cell_type": "markdown",
   "metadata": {},
   "source": [
    "### Diagonalization of the matrix $\\boldsymbol{M}$\n",
    "\n",
    "This method is analogous to finding the matrix $\\boldsymbol{c}$ that diagonalizes the matrix $\\boldsymbol{M}$. This is also referred to in Atkins' ''The Chemist's Toolkit 25'':\n",
    "\n",
    "<img src=Ctk25.png width=500px>\n",
    "\n",
    "Let's use your eigenvectors as an example. Will they diagonalize the matrix? **Select the next cell and press [Shift]+[Enter]**"
   ]
  },
  {
   "cell_type": "code",
   "execution_count": null,
   "metadata": {
    "collapsed": false,
    "deletable": true,
    "editable": true,
    "slideshow": {
     "slide_type": "slide"
    }
   },
   "outputs": [],
   "source": [
    "D=la.inv(eigenvectors)@M_benzene@eigenvectors\n",
    "np.round(D,3)"
   ]
  },
  {
   "cell_type": "markdown",
   "metadata": {
    "collapsed": false,
    "deletable": true,
    "editable": true
   },
   "source": [
    "You should obtain a diagonal matrix $\\boldsymbol{D}$ with on the diagonal the values $\\frac{E_n-\\alpha}{\\beta}$"
   ]
  },
  {
   "cell_type": "markdown",
   "metadata": {},
   "source": [
    "**Now you know how to use mathematical software to solve for Hückel LCAO-MOs!**"
   ]
  },
  {
   "cell_type": "code",
   "execution_count": null,
   "metadata": {
    "collapsed": true
   },
   "outputs": [],
   "source": []
  }
 ],
 "metadata": {
  "kernelspec": {
   "display_name": "Python 3",
   "language": "python",
   "name": "python3"
  },
  "language_info": {
   "codemirror_mode": {
    "name": "ipython",
    "version": 3
   },
   "file_extension": ".py",
   "mimetype": "text/x-python",
   "name": "python",
   "nbconvert_exporter": "python",
   "pygments_lexer": "ipython3",
   "version": "3.7.5"
  }
 },
 "nbformat": 4,
 "nbformat_minor": 2
}
